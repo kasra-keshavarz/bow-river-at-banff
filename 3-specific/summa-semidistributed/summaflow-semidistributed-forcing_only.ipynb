{
 "cells": [
  {
   "cell_type": "code",
   "execution_count": 1,
   "id": "4534faeb-c233-485b-a45d-b38574adff32",
   "metadata": {
    "editable": true,
    "slideshow": {
     "slide_type": ""
    },
    "tags": []
   },
   "outputs": [],
   "source": [
    "import pandas as pd\n",
    "import geopandas as gpd\n",
    "from summaflow import (\n",
    "    GeoLayer,\n",
    "    SUMMAWorkflow,\n",
    "    Stats,\n",
    ")\n",
    "\n",
    "import os\n",
    "import glob"
   ]
  },
  {
   "cell_type": "code",
   "execution_count": 2,
   "id": "7fd0ec77-13ea-453c-bc94-9b4e4605e4ff",
   "metadata": {},
   "outputs": [],
   "source": [
    "# paths\n",
    "root_path = '../../bb-model-semidistributed/'\n",
    "\n",
    "# layers' paths\n",
    "landcover_path = os.path.join(root_path, 'attributes', 'landcover', 'MCD12Q1.061')\n",
    "soilclass_path = os.path.join(root_path, 'attributes', 'soil')\n",
    "merithdyr_path = os.path.join(root_path, 'attributes', 'elevation')\n",
    "\n",
    "# geolayer's path\n",
    "riv_path = os.path.join(root_path, 'shapefiles', 'bb_rivers_semidistributed.shp')\n",
    "cat_path = os.path.join(root_path, 'shapefiles', 'bb_subbasins_semidistributed.shp')\n",
    "hru_path = os.path.join(root_path, 'shapefiles', 'bb_subbasins_semidistributed.shp')\n",
    "\n",
    "# forcings path\n",
    "root_path_forcings = os.path.join(root_path, 'forcing', 'remapped')"
   ]
  },
  {
   "cell_type": "code",
   "execution_count": 3,
   "id": "1c3d3557-ae25-4fd5-93ce-1a54d0277e9e",
   "metadata": {},
   "outputs": [],
   "source": [
    "# Geospatial layers\n",
    "riv_obj = gpd.read_file(riv_path)\n",
    "cat_obj = gpd.read_file(cat_path)\n",
    "hru_obj = gpd.read_file(hru_path)"
   ]
  },
  {
   "cell_type": "code",
   "execution_count": 4,
   "id": "c9906149-4776-49da-b089-bbb44fd81b13",
   "metadata": {},
   "outputs": [],
   "source": [
    "# layers needed by the setup workflow\n",
    "# elevation\n",
    "elv = GeoLayer.from_maf(\n",
    "    maf_stats=os.path.join(merithdyr_path, 'bb_model_semidistributed_stats_elv.csv'),\n",
    "    maf_layer=os.path.join(merithdyr_path, 'bb_model_semidistributed_elv.tif'),\n",
    "    maf_geolayer=os.path.join(cat_path),\n",
    "    unit = 'meters',\n",
    ")\n",
    "# landcover\n",
    "landcover = GeoLayer.from_maf(\n",
    "    maf_stats=os.path.join(landcover_path, 'bb_model_semidistributed_stats_MCD12Q1.061_2022.csv'),\n",
    "    maf_layer=os.path.join(landcover_path, 'bb_model_semidistributed_2022.tif'),\n",
    "    maf_geolayer=os.path.join(cat_path),\n",
    "    unit = 'dimensionless',\n",
    ")\n",
    "# USDA soil classes\n",
    "soil = GeoLayer.from_maf(\n",
    "    maf_stats=os.path.join(soilclass_path, 'bb_model_semidistributed_stats_soil_classes.csv'),\n",
    "    maf_layer=os.path.join(soilclass_path, 'bb_model_semidistributed_soil_classes.tif'),\n",
    "    maf_geolayer=os.path.join(cat_path),\n",
    "    unit = 'dimensionless',\n",
    ")\n",
    "\n",
    "# custom layers for `tan_slope`, `contourLength` and `downHRUindex`\n",
    "# until relevant workflows are implemented inside `gistool`--sorry\n",
    "# For now, look at various constructors for \"GeoLayer\"\n",
    "slope = GeoLayer( # workflow needs `mean` stat\n",
    "    stats=Stats(pd.DataFrame([0.1] * len(cat_obj), index=cat_obj['COMID'], columns=['mean'])),\n",
    "    unit='dimensionless',\n",
    ")\n",
    "contour = GeoLayer( # workflow needs `length` stat\n",
    "    stats=Stats(\n",
    "        pd.DataFrame(\n",
    "            cat_obj.set_crs(epsg=4326).to_crs('ESRI:54009').length, index=cat_obj['COMID'], columns=['length'])),\n",
    "    unit='meter',\n",
    ")\n",
    "hru_index = GeoLayer( # workflow needs `index` \"stat\"\n",
    "    stats=Stats(pd.DataFrame([0] * len(cat_obj), index=cat_obj['COMID'], columns=['index'])),\n",
    "    unit='dimensionless',\n",
    ")"
   ]
  },
  {
   "cell_type": "code",
   "execution_count": 5,
   "id": "a0176050-7d96-47fa-a128-08e746e4d814",
   "metadata": {
    "editable": true,
    "jupyter": {
     "source_hidden": true
    },
    "slideshow": {
     "slide_type": ""
    },
    "tags": []
   },
   "outputs": [],
   "source": [
    "# exp = SUMMAWorkflow(\n",
    "#     forcing_data = glob.glob(os.path.join(root_path_forcings, '**', '*.nc'), recursive=True),\n",
    "#     forcing_name_mapping = {\n",
    "#         'CaSR_v3.1_A_PR0_SFC': 'pptrate',\n",
    "#         'CaSR_v3.1_P_TT_09975': 'airtemp',\n",
    "#         'CaSR_v3.1_P_P0_SFC': 'airpres',\n",
    "#         'CaSR_v3.1_P_FI_SFC': 'LWRadAtm',\n",
    "#         'CaSR_v3.1_P_FB_SFC': 'SWRadAtm',\n",
    "#         'CaSR_v3.1_P_HU_09975': 'spechum',\n",
    "#         'CaSR_v3.1_P_UVC_09975': 'windspd',\n",
    "#     },\n",
    "#     forcing_unit_mapping = {\n",
    "#         'pptrate': 'meter / hour',\n",
    "#         'airtemp': 'degC',\n",
    "#         'airpres': 'millibar',\n",
    "#         'LWRadAtm': 'watt / meter ** 2',\n",
    "#         'SWRadAtm': 'watt / meter ** 2',\n",
    "#         'spechum': 'dimensionless',\n",
    "#         'windspd': 'knot',\n",
    "#     },\n",
    "#     forcing_to_unit_mapping = {\n",
    "#         'pptrate': 'millimeter / second',\n",
    "#         'airtemp': 'kelvin',\n",
    "#         'airpres': 'pascal',\n",
    "#         'LWRadAtm': 'watt / meter ** 2',\n",
    "#         'SWRadAtm': 'watt / meter ** 2',\n",
    "#         'spechum': 'dimensionless',\n",
    "#         'windspd': 'meter / second',\n",
    "#     },\n",
    "#     forcing_attrs = {\n",
    "#         'measurement_height': 20,\n",
    "#         'measurement_height_unit': 'meter',\n",
    "#         'forcing_time_zone': 'utc', # original timezone of the forcing datatset\n",
    "#         'target_time_zone': 'utc', # if UTC, SUMMA converts to local time zone internally\n",
    "#         'local': {},\n",
    "#         'global': {},\n",
    "#     },\n",
    "#     topology_data = {\n",
    "#         'riv': riv_obj,\n",
    "#         'hru': hru_obj,\n",
    "#         'cat': cat_obj,\n",
    "#     },\n",
    "#     topology_unit_mapping = {}, # not sure if mizuRoute should be included here\n",
    "#     topology_to_unit_mapping = {}, # not sure if mizuRoute should be included here\n",
    "#     topology_attrs = {\n",
    "#         'gru_fid': 'COMID',\n",
    "#         'hru_fid': 'COMID',\n",
    "#         'local': {},\n",
    "#         'global': {},\n",
    "#     },\n",
    "#     geospatial_data = {\n",
    "#         'elevation': elv,\n",
    "#         'soilTypeIndex': soil,\n",
    "#         'vegTypeIndex': landcover,\n",
    "#         'tan_slope': slope,\n",
    "#         'contourLength': contour,\n",
    "#         'downHRUindex': hru_index,\n",
    "#     },\n",
    "#     cold_state = {\n",
    "#         'layers': {\n",
    "#             'nSoil': 8,\n",
    "#             'nSnow': 0,\n",
    "#         },\n",
    "#         'states': { # dimension manipulation is automated inside the workflow\n",
    "#             'scalarCanopyIce': 0,\n",
    "#             'scalarCanopyLiq': 0,\n",
    "#             'scalarSnowDepth': 0,\n",
    "#             'scalarSWE': 0,\n",
    "#             'scalarSfcMeltPond': 0,\n",
    "#             'scalarAquiferStorage': 0.4,\n",
    "#             'scalarSnowAlbedo': 0,\n",
    "#             'scalarCanairTemp': 283.16,\n",
    "#             'scalarCanopyTemp': 283.16,\n",
    "#             'mLayerTemp': 283.16,\n",
    "#             'mLayerVolFracIce': 0,\n",
    "#             'mLayerVolFracLiq': 0.4,\n",
    "#             'mLayerMatricHead': -1.0,\n",
    "#             'mLayerDepth': [0.025, 0.075, 0.15, 0.25, 0.5, 0.5, 1, 1.5],\n",
    "#         },\n",
    "#     },\n",
    "#     decisions = { # Can change all decisions, otherwise default values\n",
    "#         'soilCatTbl': 'ROSETTA',\n",
    "#     },\n",
    "#     auxillary = {\n",
    "#         # 'dt_init': 450 # if not provided, defaults to forcing data timestep\n",
    "#     },\n",
    "#     settings = {\n",
    "#         'model_path': os.path.join(root_path, 'settings', 'SUMMA'),\n",
    "#         'start_date': '1980-01-01 00:00',\n",
    "#         'end_date': '1980-01-10 23:00',\n",
    "#         'verbose': True,\n",
    "#     },\n",
    "#     fillna = {\n",
    "#         'geospatial_data': {\n",
    "#             'elevation': 1, # a rough assumption--can be modified to anything\n",
    "#             'soilTypeIndex': 6, # based on Darri's assumption--can be modified to anything\n",
    "#             'vegTypeIndex': 1, # a rough assumption--can be modified to anything\n",
    "#         },\n",
    "#     },\n",
    "# )"
   ]
  },
  {
   "cell_type": "code",
   "execution_count": 6,
   "id": "53efcadd-2c1f-472c-9096-b6a185d05579",
   "metadata": {
    "editable": true,
    "slideshow": {
     "slide_type": ""
    },
    "tags": []
   },
   "outputs": [
    {
     "name": "stdout",
     "output_type": "stream",
     "text": [
      "2025-06-11 16:14:40,630 - summaflow.core - INFO - SUMMA workflow initialized\n"
     ]
    },
    {
     "name": "stderr",
     "output_type": "stream",
     "text": [
      "/home/kasra.keshavarz1/virtual-envs/summaflow-iss6/lib/python3.11/site-packages/summaflow/core.py:356: UserWarning: `dt_init` not provided in auxillary dictionary; defaulting to forcing time-step.\n",
      "  warnings.warn(\"`dt_init` not provided in auxillary dictionary;\"\n"
     ]
    }
   ],
   "source": [
    "exp = SUMMAWorkflow(\n",
    "    forcing_data = glob.glob(os.path.join(root_path_forcings, '**', '*.nc'), recursive=True),\n",
    "    forcing_name_mapping = {\n",
    "        'CaSR_v3.1_A_PR0_SFC': 'pptrate',\n",
    "        'CaSR_v3.1_P_TT_09975': 'airtemp',\n",
    "        'CaSR_v3.1_P_P0_SFC': 'airpres',\n",
    "        'CaSR_v3.1_P_FI_SFC': 'LWRadAtm',\n",
    "        'CaSR_v3.1_P_FB_SFC': 'SWRadAtm',\n",
    "        'CaSR_v3.1_P_HU_09975': 'spechum',\n",
    "        'CaSR_v3.1_P_UVC_09975': 'windspd',\n",
    "    },\n",
    "    forcing_unit_mapping = {\n",
    "        'pptrate': 'meter / hour',\n",
    "        'airtemp': 'degC',\n",
    "        'airpres': 'millibar',\n",
    "        'LWRadAtm': 'watt / meter ** 2',\n",
    "        'SWRadAtm': 'watt / meter ** 2',\n",
    "        'spechum': 'dimensionless',\n",
    "        'windspd': 'knot',\n",
    "    },\n",
    "    forcing_to_unit_mapping = {\n",
    "        'pptrate': 'millimeter / second',\n",
    "        'airtemp': 'kelvin',\n",
    "        'airpres': 'pascal',\n",
    "        'LWRadAtm': 'watt / meter ** 2',\n",
    "        'SWRadAtm': 'watt / meter ** 2',\n",
    "        'spechum': 'dimensionless',\n",
    "        'windspd': 'meter / second',\n",
    "    },\n",
    "    forcing_attrs = {\n",
    "        'measurement_height': 20,\n",
    "        'measurement_height_unit': 'meter',\n",
    "        'forcing_time_zone': 'utc', # original timezone of the forcing datatset\n",
    "        'target_time_zone': 'utc', # if UTC, SUMMA converts to local time zone internally\n",
    "        'local': {},\n",
    "        'global': {},\n",
    "    },\n",
    "    topology_data = {\n",
    "        'riv': riv_obj,\n",
    "        'hru': hru_obj,\n",
    "        'cat': cat_obj,\n",
    "    },\n",
    "    # topology_unit_mapping = {}, # not sure if mizuRoute should be included here\n",
    "    # topology_to_unit_mapping = {}, # not sure if mizuRoute should be included here\n",
    "    topology_attrs = {\n",
    "        'gru_fid': 'COMID',\n",
    "        'hru_fid': 'COMID',\n",
    "        'local': {},\n",
    "        'global': {},\n",
    "    },\n",
    "    # geospatial_data = {\n",
    "    #     'elevation': elv,\n",
    "    #     'soilTypeIndex': soil,\n",
    "    #     'vegTypeIndex': landcover,\n",
    "    #     'tan_slope': slope,\n",
    "    #     'contourLength': contour,\n",
    "    #     'downHRUindex': hru_index,\n",
    "    # },\n",
    "    # cold_state = {\n",
    "    #     'layers': {\n",
    "    #         'nSoil': 8,\n",
    "    #         'nSnow': 0,\n",
    "    #     },\n",
    "    #     'states': { # dimension manipulation is automated inside the workflow\n",
    "    #         'scalarCanopyIce': 0,\n",
    "    #         'scalarCanopyLiq': 0,\n",
    "    #         'scalarSnowDepth': 0,\n",
    "    #         'scalarSWE': 0,\n",
    "    #         'scalarSfcMeltPond': 0,\n",
    "    #         'scalarAquiferStorage': 0.4,\n",
    "    #         'scalarSnowAlbedo': 0,\n",
    "    #         'scalarCanairTemp': 283.16,\n",
    "    #         'scalarCanopyTemp': 283.16,\n",
    "    #         'mLayerTemp': 283.16,\n",
    "    #         'mLayerVolFracIce': 0,\n",
    "    #         'mLayerVolFracLiq': 0.4,\n",
    "    #         'mLayerMatricHead': -1.0,\n",
    "    #         'mLayerDepth': [0.025, 0.075, 0.15, 0.25, 0.5, 0.5, 1, 1.5],\n",
    "    #     },\n",
    "    # },\n",
    "    # decisions = { # Can change all decisions, otherwise default values\n",
    "    #     'soilCatTbl': 'ROSETTA',\n",
    "    # },\n",
    "    # auxillary = {\n",
    "    #     # 'dt_init': 450 # if not provided, defaults to forcing data timestep\n",
    "    # },\n",
    "    settings = {\n",
    "        'model_path': os.path.join(root_path, 'settings', 'SUMMA'),\n",
    "        'start_date': '1980-01-01 00:00',\n",
    "        'end_date': '1980-01-10 23:00',\n",
    "        'verbose': True,\n",
    "    },\n",
    "    # fillna = {\n",
    "    #     'geospatial_data': {\n",
    "    #         'elevation': 1, # a rough assumption--can be modified to anything\n",
    "    #         'soilTypeIndex': 6, # based on Darri's assumption--can be modified to anything\n",
    "    #         'vegTypeIndex': 1, # a rough assumption--can be modified to anything\n",
    "    #     },\n",
    "    # },\n",
    ")"
   ]
  },
  {
   "cell_type": "markdown",
   "id": "c5891be5-a994-4e04-9178-a8f0baca8617",
   "metadata": {},
   "source": [
    "## Workflow tests"
   ]
  },
  {
   "cell_type": "code",
   "execution_count": 8,
   "id": "3935f6cd-0eac-4c7a-953d-445589532a36",
   "metadata": {},
   "outputs": [
    {
     "name": "stdout",
     "output_type": "stream",
     "text": [
      "2025-06-11 16:14:40,644 - summaflow.core - INFO - Initializing attributes for SUMMA workflow...\n",
      "2025-06-11 16:14:40,644 - summaflow.core - INFO - Assigning timezone\n",
      "2025-06-11 16:14:40,886 - summaflow.core - INFO - Processing forcing file: remapped_remapped_bb_model_semidistributed_1979123112.nc\n",
      "2025-06-11 16:14:41,004 - summaflow.core - INFO - Saving dataset to /home/kasra.keshavarz1/test-dave/remapped_remapped_bb_model_semidistributed_1979123112.nc\n",
      "2025-06-11 16:14:41,105 - summaflow.core - INFO - Processing forcing file: remapped_remapped_bb_model_semidistributed_1980010112.nc\n",
      "2025-06-11 16:14:41,134 - summaflow.core - INFO - Saving dataset to /home/kasra.keshavarz1/test-dave/remapped_remapped_bb_model_semidistributed_1980010112.nc\n",
      "2025-06-11 16:14:41,174 - summaflow.core - INFO - Processing forcing file: remapped_remapped_bb_model_semidistributed_1980010212.nc\n"
     ]
    },
    {
     "name": "stderr",
     "output_type": "stream",
     "text": [
      "/home/kasra.keshavarz1/virtual-envs/summaflow-iss6/lib/python3.11/site-packages/summaflow/core.py:862: UserWarning: Dimensions not sorted, run `init_attrs(...)` method first.\n",
      "  warnings.warn('Dimensions not sorted, run'\n",
      "/home/kasra.keshavarz1/virtual-envs/summaflow-iss6/lib/python3.11/site-packages/summaflow/core.py:862: UserWarning: Dimensions not sorted, run `init_attrs(...)` method first.\n",
      "  warnings.warn('Dimensions not sorted, run'\n",
      "/home/kasra.keshavarz1/virtual-envs/summaflow-iss6/lib/python3.11/site-packages/summaflow/core.py:862: UserWarning: Dimensions not sorted, run `init_attrs(...)` method first.\n",
      "  warnings.warn('Dimensions not sorted, run'\n"
     ]
    },
    {
     "name": "stdout",
     "output_type": "stream",
     "text": [
      "2025-06-11 16:14:41,206 - summaflow.core - INFO - Saving dataset to /home/kasra.keshavarz1/test-dave/remapped_remapped_bb_model_semidistributed_1980010212.nc\n",
      "2025-06-11 16:14:41,240 - summaflow.core - INFO - Processing forcing file: remapped_remapped_bb_model_semidistributed_1980010312.nc\n",
      "2025-06-11 16:14:41,269 - summaflow.core - INFO - Saving dataset to /home/kasra.keshavarz1/test-dave/remapped_remapped_bb_model_semidistributed_1980010312.nc\n",
      "2025-06-11 16:14:41,305 - summaflow.core - INFO - Processing forcing file: remapped_remapped_bb_model_semidistributed_1980010412.nc\n",
      "2025-06-11 16:14:41,333 - summaflow.core - INFO - Saving dataset to /home/kasra.keshavarz1/test-dave/remapped_remapped_bb_model_semidistributed_1980010412.nc\n",
      "2025-06-11 16:14:41,367 - summaflow.core - INFO - Processing forcing file: remapped_remapped_bb_model_semidistributed_1980010512.nc\n",
      "2025-06-11 16:14:41,392 - summaflow.core - INFO - Saving dataset to /home/kasra.keshavarz1/test-dave/remapped_remapped_bb_model_semidistributed_1980010512.nc\n",
      "2025-06-11 16:14:41,426 - summaflow.core - INFO - Processing forcing file: remapped_remapped_bb_model_semidistributed_1980010612.nc\n",
      "2025-06-11 16:14:41,458 - summaflow.core - INFO - Saving dataset to /home/kasra.keshavarz1/test-dave/remapped_remapped_bb_model_semidistributed_1980010612.nc\n"
     ]
    },
    {
     "name": "stderr",
     "output_type": "stream",
     "text": [
      "/home/kasra.keshavarz1/virtual-envs/summaflow-iss6/lib/python3.11/site-packages/summaflow/core.py:862: UserWarning: Dimensions not sorted, run `init_attrs(...)` method first.\n",
      "  warnings.warn('Dimensions not sorted, run'\n",
      "/home/kasra.keshavarz1/virtual-envs/summaflow-iss6/lib/python3.11/site-packages/summaflow/core.py:862: UserWarning: Dimensions not sorted, run `init_attrs(...)` method first.\n",
      "  warnings.warn('Dimensions not sorted, run'\n",
      "/home/kasra.keshavarz1/virtual-envs/summaflow-iss6/lib/python3.11/site-packages/summaflow/core.py:862: UserWarning: Dimensions not sorted, run `init_attrs(...)` method first.\n",
      "  warnings.warn('Dimensions not sorted, run'\n",
      "/home/kasra.keshavarz1/virtual-envs/summaflow-iss6/lib/python3.11/site-packages/summaflow/core.py:862: UserWarning: Dimensions not sorted, run `init_attrs(...)` method first.\n",
      "  warnings.warn('Dimensions not sorted, run'\n"
     ]
    },
    {
     "name": "stdout",
     "output_type": "stream",
     "text": [
      "2025-06-11 16:14:41,492 - summaflow.core - INFO - Processing forcing file: remapped_remapped_bb_model_semidistributed_1980010712.nc\n",
      "2025-06-11 16:14:41,528 - summaflow.core - INFO - Saving dataset to /home/kasra.keshavarz1/test-dave/remapped_remapped_bb_model_semidistributed_1980010712.nc\n",
      "2025-06-11 16:14:41,570 - summaflow.core - INFO - Processing forcing file: remapped_remapped_bb_model_semidistributed_1980010812.nc\n",
      "2025-06-11 16:14:41,601 - summaflow.core - INFO - Saving dataset to /home/kasra.keshavarz1/test-dave/remapped_remapped_bb_model_semidistributed_1980010812.nc\n",
      "2025-06-11 16:14:41,635 - summaflow.core - INFO - Processing forcing file: remapped_remapped_bb_model_semidistributed_1980010912.nc\n",
      "2025-06-11 16:14:41,662 - summaflow.core - INFO - Saving dataset to /home/kasra.keshavarz1/test-dave/remapped_remapped_bb_model_semidistributed_1980010912.nc\n",
      "2025-06-11 16:14:41,698 - summaflow.core - INFO - Processing forcing file: remapped_remapped_bb_model_semidistributed_1980011012.nc\n"
     ]
    },
    {
     "name": "stderr",
     "output_type": "stream",
     "text": [
      "/home/kasra.keshavarz1/virtual-envs/summaflow-iss6/lib/python3.11/site-packages/summaflow/core.py:862: UserWarning: Dimensions not sorted, run `init_attrs(...)` method first.\n",
      "  warnings.warn('Dimensions not sorted, run'\n",
      "/home/kasra.keshavarz1/virtual-envs/summaflow-iss6/lib/python3.11/site-packages/summaflow/core.py:862: UserWarning: Dimensions not sorted, run `init_attrs(...)` method first.\n",
      "  warnings.warn('Dimensions not sorted, run'\n",
      "/home/kasra.keshavarz1/virtual-envs/summaflow-iss6/lib/python3.11/site-packages/summaflow/core.py:862: UserWarning: Dimensions not sorted, run `init_attrs(...)` method first.\n",
      "  warnings.warn('Dimensions not sorted, run'\n",
      "/home/kasra.keshavarz1/virtual-envs/summaflow-iss6/lib/python3.11/site-packages/summaflow/core.py:862: UserWarning: Dimensions not sorted, run `init_attrs(...)` method first.\n",
      "  warnings.warn('Dimensions not sorted, run'\n"
     ]
    },
    {
     "name": "stdout",
     "output_type": "stream",
     "text": [
      "2025-06-11 16:14:41,730 - summaflow.core - INFO - Saving dataset to /home/kasra.keshavarz1/test-dave/remapped_remapped_bb_model_semidistributed_1980011012.nc\n",
      "2025-06-11 16:14:41,764 - summaflow.core - INFO - Forcing dataset processed/initialized successfully.\n"
     ]
    }
   ],
   "source": [
    "exp.init_forcing(save=True, save_nc_path='/home/kasra.keshavarz1/test-forcing/', save_list_path='/home/kasra.keshavarz1/test-forcing/fileList.txt')"
   ]
  }
 ],
 "metadata": {
  "kernelspec": {
   "display_name": "sf-iss6",
   "language": "python",
   "name": "sf-iss6"
  },
  "language_info": {
   "codemirror_mode": {
    "name": "ipython",
    "version": 3
   },
   "file_extension": ".py",
   "mimetype": "text/x-python",
   "name": "python",
   "nbconvert_exporter": "python",
   "pygments_lexer": "ipython3",
   "version": "3.11.7"
  }
 },
 "nbformat": 4,
 "nbformat_minor": 5
}
